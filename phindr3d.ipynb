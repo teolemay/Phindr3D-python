{
 "cells": [
  {
   "cell_type": "markdown",
   "metadata": {},
   "source": [
    "# Phindr3D in python"
   ]
  },
  {
   "cell_type": "code",
   "execution_count": null,
   "metadata": {},
   "outputs": [],
   "source": [
    "%matplotlib inline\n",
    "import numpy as np\n",
    "import matplotlib.pyplot as plt\n",
    "from scipy.spatial import distance as dist\n",
    "import pandas as pd\n",
    "import phindr_functions as phi"
    "import metadata_functions as mf"
   ]
  },
  {
   "cell_type": "markdown",
   "metadata": {},
   "source": [
    "# Create Metadata\n",
    "Uncomment the code below to create metadata if needed. Regex and paths must be edited to reflect desired images and directories."
   ]
  },
  {
   "cell_type": "code",
   "execution_count": null,
   "metadata": {},
   "outputs": [],
   "source": [
    "# metadatafilename = 'metadata_python.txt'\n",
    "# folder_path = r'E:\\Phindr3D_organoid-sample-data'\n",
    "# regex = '(?P<WellID>\\w+)f(?P<Field>\\w+)p(?P<Stack>\\d+)-ch(?P<Channel>\\d)sk1fk1fl1.tiff'\n",
    "\n",
    "# mdata_path = mf.createMetadata(folder_path, regex)"
   ]
  },
  {
   "cell_type": "markdown",
   "metadata": {},
   "source": [
    "# Preliminary set-up:"
   ]
  },
  {
   "cell_type": "code",
   "execution_count": null,
   "metadata": {},
   "outputs": [],
   "source": [
    "param = phi.initParameters()\n",
    "\n",
    "# EDIT HERE\n",
    "#change parameters as needed\n",
    "#Super-Voxel dimensions\n",
    "param.tileX = 10 \n",
    "param.tileY = 10\n",
    "param.tileZ = 3\n",
    "#Mega-Voxel dimensions\n",
    "param.megaVoxelTileX = 5\n",
    "param.megaVoxelTileY = 5\n",
    "param.megaVoxelTileZ = 2\n",
    "#Number of categories for binning\n",
    "param.numVoxelBins = 20\n",
    "param.numSuperVoxelBins = 15\n",
    "param.numMegaVoxelBins = 40\n",
    "#foreground thresholds\n",
    "param.intensityThresholdTuningFactor = 0.5\n",
    "param.superVoxelThresholdTuningFactor = 0.5\n",
    "param.megaVoxelThresholdTuningFactor = 0.5\n",
    "#training parameters:\n",
    "param.randTrainingSuperVoxel = 10000\n",
    "param.pixelsPerImage = 200\n",
    "param.randTrainingFields = 5\n",
    "param.randTrainingPerTreatment = 1\n",
    "param.intensityNormPerTreatment = False\n",
    "#visualization:\n",
    "param.showBincenters = False\n",
    "param.showImage = False #may be more useful to change this lower down, otherwise may show large number of images\n",
    "param.showChannels = False # show individual channels instead of rgb images.\n",
    "\n",
    "#include texture features of Mega Voxel image:\n",
    "param.textureFeatures = False\n",
    "\n",
    "#misc. (generally don't need to touch)\n",
    "param.minQuantileScaling = .5\n",
    "param.maxQuantileScaling = .5\n",
    "param.countBackground = False\n",
    "param.showImage = 0\n",
    "param.startZPlane = 1\n",
    "param.endZPlane = 500\n",
    "param.numRemoveZStart = 1\n",
    "param.numRemoveZEnd = 1\n",
    "param.computeTAS = 0\n",
    "param.trainingPerColumn = False\n",
    "param.treatmentCol = ''\n",
    "param.imageTreatments = []\n",
    "param.allTreatments = []\n",
    "param.trainingColforImageCategories = []\n",
    "param.superVoxelPerField = param.randTrainingSuperVoxel//param.randTrainingFields\n",
    "param.lowerbound = [0, 0, 0]\n",
    "param.upperbound = [1, 1, 1]\n",
    "param.numChannels = 3 \n",
    "\n",
    "#don't need to touch these \n",
    "param.svcolormap = phi.random_cmap(map_len=param.numSuperVoxelBins+1)\n",
    "param.mvcolormap = phi.random_cmap(map_len=param.numMegaVoxelBins+1)\n",
    "\n",
    "param.showImage = False #################################shouldnt rlly be here.\n"
   ]
  },
  {
   "cell_type": "markdown",
   "metadata": {},
   "source": [
    "# File loading:\n",
    "Load folder containing images of interest\n",
    "\n",
    "NOTE:\n",
    "\n",
    "If the `analysis_folder_path` is different from the `training_folder_path`, then the Profile Images section requires editing to ensure the images for analysis are loaded properly."
   ]
  },
  {
   "cell_type": "code",
   "execution_count": null,
   "metadata": {},
   "outputs": [],
   "source": [
    "# metadatafile based stuff here.\n",
    "\n",
    "mdata_path = r'C:\\Users\\teole\\anaconda3\\envs\\phy479\\synthetic_images\\metadata_python.txt' #r'E:\\Phindr3D_organoid-sample-data\\metadata_python.txt'\n",
    "mdata = pd.read_csv(mdata_path, sep='\\t')\n",
    "header = mdata.columns\n",
    "channels = header[header.map(lambda head: head.startswith('Channel_'))]\n",
    "imageID = header[header == 'ImageID']\n",
    "filenameData = header[header.map(lambda head: (head not in channels) and (head not in imageID) and (head != 'MetadataFile') and (head != 'Stack'))]\n",
    "stack = header[header == 'Stack']\n",
    "uImageID = np.unique(mdata[imageID])\n",
    "treatment = header[header == 'Treatment']\n",
    "\n",
    "param.numChannels = len(channels)\n",
    "param.treatmentCol = treatment\n",
    "param.channelCol = channels\n",
    "param.imageIDCol = imageID\n",
    "param.stackCol = stack\n",
    "param.allTreatments = np.unique(mdata[param.treatmentCol])\n",
    "\n"
   ]
  },
  {
   "cell_type": "markdown",
   "metadata": {},
   "source": [
    "# Rescale intensities:\n",
    "\n",
    "want to rescale to between 1 and 0"
   ]
  },
  {
   "cell_type": "code",
   "execution_count": null,
   "metadata": {},
   "outputs": [],
   "source": [
    "param = phi.getScalingFactorforImages(mdata, param)\n",
    "\n",
    "print('Lowerbounds:', param.lowerbound)\n",
    "print('Upperbounds:', param.upperbound)"
   ]
  },
  {
   "cell_type": "markdown",
   "metadata": {},
   "source": [
    "# Threshold images:\n",
    "get threshold value to use from training data\n"
   ]
  },
  {
   "cell_type": "code",
   "execution_count": null,
   "metadata": {},
   "outputs": [],
   "source": [
    "param = phi.getImageThresholdValues(mdata, param)\n",
    "\n",
    "intensityThreshold = np.quantile(param.intensityThresholdValues, param.intensityThresholdTuningFactor, axis=0)\n",
    "param.intensityThreshold = np.reshape(intensityThreshold, (1, param.numChannels))\n",
    "\n",
    "print(param.intensityThreshold)"
   ]
  },
  {
   "cell_type": "markdown",
   "metadata": {},
   "source": [
    "# Cluster pixels:\n",
    "compute pixel categories "
   ]
  },
  {
   "cell_type": "code",
   "execution_count": null,
   "metadata": {},
   "outputs": [],
   "source": [
    "param = phi.getPixelBinCenters(mdata, param)\n",
    "print(param.pixelBinCenters) #20 different pixel categories made up of scaled intensities of different channels\n",
    "print(param.pixelBinCenters.shape)"
   ]
  },
  {
   "cell_type": "code",
   "execution_count": null,
   "metadata": {},
   "outputs": [],
   "source": [
    "#analyze voxel bin centers\n",
    "# cosine distance to get measure of proportionality between vectors\n",
    "voxel_sim = 1 - dist.squareform(dist.pdist(param.pixelBinCenters, 'cosine'))\n",
    "voxel_sim = np.tril(voxel_sim, -1)\n",
    "mean = np.average(voxel_sim[np.nonzero(voxel_sim)])\n",
    "std = np.std(voxel_sim[np.nonzero(voxel_sim)])\n",
    "print(f'Mean voxel bin center similarity: {mean}')\n",
    "print(f'standard deviation: {std}')\n",
    "plt.figure()\n",
    "plt.imshow(voxel_sim)\n",
    "plt.title('Voxel bin center cosine similarity')\n",
    "plt.xticks([i for i in range(param.numVoxelBins)], [f'{i+1}' for i in range(param.numVoxelBins)])\n",
    "plt.yticks([i for i in range(param.numVoxelBins)], [f'{i+1}' for i in range(param.numVoxelBins)])\n",
    "plt.colorbar()\n",
    "plt.show()"
   ]
  },
  {
   "cell_type": "markdown",
   "metadata": {},
   "source": [
    "# Define super voxels:\n",
    "use pixel categories to make some supervoxels! (also cluster super voxels into bins/categories)"
   ]
  },
  {
   "cell_type": "code",
   "execution_count": null,
   "metadata": {},
   "outputs": [],
   "source": [
    "param = phi.getSuperVoxelBinCenters(mdata, param)\n",
    "print(param.supervoxelBincenters) \n",
    "print(param.supervoxelBincenters.shape)\n"
   ]
  },
  {
   "cell_type": "code",
   "execution_count": null,
   "metadata": {},
   "outputs": [],
   "source": [
    "# analyze SV bin centers\n",
    "voxel_sim = 1 - dist.squareform(dist.pdist(param.supervoxelBincenters, 'cosine'))\n",
    "voxel_sim = np.tril(voxel_sim, -1)\n",
    "mean = np.average(voxel_sim[np.nonzero(voxel_sim)])\n",
    "std = np.std(voxel_sim[np.nonzero(voxel_sim)])\n",
    "print(f'Mean super voxel bin center similarity: {mean}')\n",
    "print(f'standard deviation: {std}')\n",
    "plt.figure()\n",
    "plt.imshow(voxel_sim)\n",
    "plt.title('Super voxel bin center cosine similarity')\n",
    "plt.xticks([i for i in range(param.numSuperVoxelBins)], [f'{i+1}' for i in range(param.numSuperVoxelBins)])\n",
    "plt.yticks([i for i in range(param.numSuperVoxelBins)], [f'{i+1}' for i in range(param.numSuperVoxelBins)])\n",
    "plt.colorbar()\n",
    "plt.show()"
   ]
  },
  {
   "cell_type": "markdown",
   "metadata": {},
   "source": [
    "# Combine super voxels to mega voxels:\n",
    "use super voxel categories and tileprofile to get megavoxels. also get megavoxel bins/categories"
   ]
  },
  {
   "cell_type": "code",
   "execution_count": null,
   "metadata": {},
   "outputs": [],
   "source": [
    "param = phi.getMegaVoxelBinCenters(mdata, param)\n",
    "print(param.megaVoxelBincenters)\n",
    "print(param.megaVoxelBincenters.shape)"
   ]
  },
  {
   "cell_type": "code",
   "execution_count": null,
   "metadata": {},
   "outputs": [],
   "source": [
    "# analyze MV bin centers\n",
    "voxel_sim = 1 - dist.squareform(dist.pdist(param.megaVoxelBincenters, 'cosine'))\n",
    "voxel_sim = np.tril(voxel_sim, -1)\n",
    "mean = np.average(voxel_sim[np.nonzero(voxel_sim)])\n",
    "std = np.std(voxel_sim[np.nonzero(voxel_sim)])\n",
    "print(f'Mean mega voxel bin center similarity: {mean}')\n",
    "print(f'standard deviation: {std}')\n",
    "plt.figure()\n",
    "plt.imshow(voxel_sim)\n",
    "plt.title('Mega voxel bin center cosine similarity')\n",
    "plt.xticks([i for i in range(0, param.numMegaVoxelBins, 2)], [f'{i+1}' for i in range(0, param.numMegaVoxelBins, 2)])\n",
    "plt.yticks([i for i in range(0, param.numMegaVoxelBins, 2)], [f'{i+1}' for i in range(0, param.numMegaVoxelBins, 2)])\n",
    "plt.colorbar()\n",
    "plt.show()"
   ]
  },
  {
   "cell_type": "markdown",
   "metadata": {},
   "source": [
    "# Profile images:\n",
    "Commmented cell can be used to anaysize image sets different from image set."
   ]
  },
  {
   "cell_type": "code",
   "execution_count": null,
   "metadata": {},
   "outputs": [],
   "source": [
    "## uncomment to load separate analysis metadata file\n",
    "\n",
    "# mdata_path = r'C:\\Users\\teole\\anaconda3\\envs\\phy479\\synthetic_images\\metadata_python.txt' #r'E:\\Phindr3D_organoid-sample-data\\metadata_python.txt'\n",
    "# mdata = pd.read_csv(mdata_path, sep='\\t')\n",
    "# header = mdata.columns\n",
    "# channels = header[header.map(lambda head: head.startswith('Channel_'))]\n",
    "# imageID = header[header == 'ImageID']\n",
    "# filenameData = header[header.map(lambda head: (head not in channels) and (head not in imageID) and (head != 'MetadataFile') and (head != 'Stack'))]\n",
    "# stack = header[header == 'Stack']\n",
    "# uImageID = np.unique(mdata[imageID])\n",
    "# treatment = header[header == 'Treatment']\n",
    "\n",
    "# param.numChannels = len(channels)\n",
    "# param.treatmentCol = treatment\n",
    "# param.channelCol = channels\n",
    "# param.imageIDCol = imageID\n",
    "# param.stackCol = stack\n",
    "# param.allTreatments = np.unique(mdata[param.treatmentCol])\n"
   ]
  },
  {
   "cell_type": "code",
   "execution_count": null,
   "metadata": {},
   "outputs": [],
   "source": [
    "output_file_name = \"trainingtest.csv\"\n",
    "\n",
    "%matplotlib inline\n",
    "#Set to True to show images in process (will show LARGE number of images): EDIT HERE\n",
    "param.showImage = True\n",
    "\n",
    "param, resultIM, resultRaw, df = phi.extractImageLevelTextureFeatures(mdata, param, outputFileName=output_file_name, outputDir='')\n",
    "\n",
    "from IPython.display import display\n",
    "display(df)"
   ]
  }
 ],
 "metadata": {
  "kernelspec": {
   "display_name": "Python 3.9.7 64-bit (system)",
   "language": "python",
   "name": "python3"
  },
  "language_info": {
   "codemirror_mode": {
    "name": "ipython",
    "version": 3
   },
   "file_extension": ".py",
   "mimetype": "text/x-python",
   "name": "python",
   "nbconvert_exporter": "python",
   "pygments_lexer": "ipython3",
   "version": "3.9.7"
  },
  "orig_nbformat": 4,
  "vscode": {
   "interpreter": {
    "hash": "0253464e988ff7e6835c1d5b6c0a76a63f06b677a2591ccc00d58ead368c4232"
   }
  }
 },
 "nbformat": 4,
 "nbformat_minor": 2
}
