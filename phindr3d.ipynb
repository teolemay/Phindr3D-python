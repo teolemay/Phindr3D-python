{
 "cells": [
  {
   "cell_type": "markdown",
   "metadata": {
    "pycharm": {
     "name": "#%% md\n"
    }
   },
   "source": [
    "# Phindr3D in python"
   ]
  },
  {
   "cell_type": "code",
   "execution_count": null,
   "metadata": {
    "pycharm": {
     "name": "#%%\n"
    }
   },
   "outputs": [],
   "source": [
    "%matplotlib inline\n",
    "import numpy as np\n",
    "import matplotlib.pyplot as plt\n",
    "from scipy.spatial import distance as dist\n",
    "import pandas as pd\n",
    "import phindr_functions as phi\n",
    "import metadata_functions as mf"
   ]
  },
  {
   "cell_type": "markdown",
   "metadata": {
    "pycharm": {
     "name": "#%% md\n"
    }
   },
   "source": [
    "# Create Metadata\n",
    "Uncomment the code below to create metadata if needed. Regex and paths must be edited to reflect desired images and directories."
   ]
  },
  {
   "cell_type": "code",
   "execution_count": null,
   "metadata": {
    "pycharm": {
     "name": "#%%\n"
    }
   },
   "outputs": [],
   "source": [
    "# folder_path = r'C:\\Users\\teole\\anaconda3\\envs\\phy479\\phindrtestsynthetic'\n",
    "# regex = 'image(?P<synthImID>\\d+)__(?P<Treatment>.+)__z(?P<Stack>\\d+)__ch(?P<Channel>\\d)__dla.tiff'\n",
    "\n",
    "# mdata_path = mf.createMetadata(folder_path, regex)"
   ]
  },
  {
   "cell_type": "markdown",
   "metadata": {
    "pycharm": {
     "name": "#%% md\n"
    }
   },
   "source": [
    "# Preliminary set-up:"
   ]
  },
  {
   "cell_type": "code",
   "execution_count": null,
   "metadata": {
    "pycharm": {
     "name": "#%%\n"
    }
   },
   "outputs": [],
   "source": [
    "param = phi.initParameters()\n",
    "\n",
    "# EDIT HERE\n",
    "#change parameters as needed\n",
    "#Super-Voxel dimensions\n",
    "param.tileX = 10\n",
    "param.tileY = 10\n",
    "param.tileZ = 3\n",
    "#Mega-Voxel dimensions\n",
    "param.megaVoxelTileX = 5\n",
    "param.megaVoxelTileY = 5\n",
    "param.megaVoxelTileZ = 2\n",
    "#Number of categories for binning\n",
    "param.numVoxelBins = 20\n",
    "param.numSuperVoxelBins = 15\n",
    "param.numMegaVoxelBins = 40\n",
    "#foreground thresholds\n",
    "param.intensityThresholdTuningFactor = 0.5\n",
    "param.superVoxelThresholdTuningFactor = 0.5\n",
    "param.megaVoxelThresholdTuningFactor = 0.5\n",
    "#training parameters:\n",
    "param.randTrainingSuperVoxel = 10000\n",
    "param.pixelsPerImage = 200\n",
    "param.randTrainingFields = 5\n",
    "param.randTrainingPerTreatment = 1\n",
    "param.intensityNormPerTreatment = False\n",
    "#visualization:\n",
    "param.showBincenters = False\n",
    "param.showImage = False #may be more useful to change this lower down, otherwise may show large number of images\n",
    "param.showChannels = False # show individual channels instead of rgb images.\n",
    "\n",
    "#include texture features of Mega Voxel image:\n",
    "param.textureFeatures = True\n",
    "\n",
    "#misc. (generally don't need to touch)\n",
    "param.minQuantileScaling = .5\n",
    "param.maxQuantileScaling = .5\n",
    "param.countBackground = False\n",
    "param.showImage = 0\n",
    "param.startZPlane = 1\n",
    "param.endZPlane = 500\n",
    "param.numRemoveZStart = 1\n",
    "param.numRemoveZEnd = 1\n",
    "param.computeTAS = 0\n",
    "param.trainingPerColumn = False\n",
    "param.treatmentCol = ''\n",
    "param.imageTreatments = []\n",
    "param.allTreatments = []\n",
    "param.trainingColforImageCategories = []\n",
    "param.superVoxelPerField = param.randTrainingSuperVoxel//param.randTrainingFields\n",
    "param.lowerbound = [0, 0, 0]\n",
    "param.upperbound = [1, 1, 1]\n",
    "param.numChannels = 3 \n",
    "\n",
    "#don't need to touch these \n",
    "param.svcolormap = phi.random_cmap(map_len=param.numSuperVoxelBins+1)\n",
    "param.mvcolormap = phi.random_cmap(map_len=param.numMegaVoxelBins+1)\n",
    "\n",
    "param.showImage = False #################################shouldnt rlly be here."
   ]
  },
  {
   "cell_type": "markdown",
   "metadata": {
    "pycharm": {
     "name": "#%% md\n"
    }
   },
   "source": [
    "# File loading:\n",
    "Load folder containing images of interest\n",
    "\n",
    "NOTE:\n",
    "\n",
    "If the `analysis_folder_path` is different from the `training_folder_path`, then the Profile Images section requires editing to ensure the images for analysis are loaded properly."
   ]
  },
  {
   "cell_type": "code",
   "execution_count": null,
   "metadata": {
    "pycharm": {
     "name": "#%%\n"
    }
   },
   "outputs": [],
   "source": [
    "# metadatafile based stuff here.\n",
    "\n",
    "mdata_path = r'E:\\Phindr3D_organoid-sample-data\\guiSegmentation\\SegmentedImages\\metadata_python.txt'\n",
    "mdata = pd.read_csv(mdata_path, sep='\\t')\n",
    "header = mdata.columns\n",
    "channels = header[header.map(lambda head: head.startswith('Channel_'))]\n",
    "imageID = header[header == 'ImageID']\n",
    "filenameData = header[header.map(lambda head: (head not in channels) and (head not in imageID) and (head != 'MetadataFile') and (head != 'Stack'))]\n",
    "stack = header[header == 'Stack']\n",
    "uImageID = np.unique(mdata[imageID])\n",
    "treatment = header[header == 'Treatment']\n",
    "\n",
    "param.numChannels = len(channels)\n",
    "param.treatmentCol = treatment\n",
    "param.channelCol = channels\n",
    "param.imageIDCol = imageID\n",
    "param.stackCol = stack\n",
    "param.allTreatments = np.unique(mdata[param.treatmentCol])\n",
    "\n",
    "mdata\n",
    "\n"
   ]
  },
  {
   "cell_type": "markdown",
   "metadata": {
    "pycharm": {
     "name": "#%% md\n"
    }
   },
   "source": [
    "# Calculate image parameters:\n",
    "\n",
    "Get image scaling factors and intensity thresholds."
   ]
  },
  {
   "cell_type": "code",
   "execution_count": null,
   "metadata": {
    "pycharm": {
     "name": "#%%\n"
    }
   },
   "outputs": [],
   "source": [
    "param = phi.getScalingFactorforImages(mdata, param)\n",
    "\n",
    "print('Lowerbounds:', param.lowerbound)\n",
    "print('Upperbounds:', param.upperbound)\n",
    "\n",
    "param = phi.getImageThresholdValues(mdata, param)\n",
    "\n",
    "intensityThreshold = np.quantile(param.intensityThresholdValues, param.intensityThresholdTuningFactor, axis=0)\n",
    "param.intensityThreshold = np.reshape(intensityThreshold, (1, param.numChannels))\n",
    "\n",
    "print('Intensity thresholds:')\n",
    "print(param.intensityThreshold)"
   ]
  },
  {
   "cell_type": "markdown",
   "metadata": {
    "pycharm": {
     "name": "#%% md\n"
    }
   },
   "source": [
    "# Cluster pixels, supervoxels, megavoxels:\n",
    "compute all categories "
   ]
  },
  {
   "cell_type": "code",
   "execution_count": null,
   "metadata": {
    "pycharm": {
     "name": "#%%\n"
    }
   },
   "outputs": [],
   "source": [
    "param = phi.getPixelBinCenters(mdata, param)\n",
    "param = phi.getSuperVoxelBinCenters(mdata, param)\n",
    "param = phi.getMegaVoxelBinCenters(mdata, param)\n",
    "\n",
    "# print(param.pixelBinCenters) #20 different pixel categories made up of scaled intensities of different channels\n",
    "# print(param.pixelBinCenters.shape)"
   ]
  },
  {
   "cell_type": "markdown",
   "metadata": {
    "pycharm": {
     "name": "#%% md\n"
    }
   },
   "source": [
    "# Profile images:\n",
    "Commmented cell can be used to anaysize image sets different from image set."
   ]
  },
  {
   "cell_type": "code",
   "execution_count": null,
   "metadata": {
    "pycharm": {
     "name": "#%%\n"
    }
   },
   "outputs": [],
   "source": [
    "# # # # uncomment to load separate analysis metadata file\n",
    "\n",
    "# mdata_path = r'E:\\noclaheoneimage\\SegmentedImages\\metadata_python.txt'\n",
    "# mdata = pd.read_csv(mdata_path, sep='\\t')\n",
    "# header = mdata.columns\n",
    "# channels = header[header.map(lambda head: head.startswith('Channel_'))]\n",
    "# imageID = header[header == 'ImageID']\n",
    "# filenameData = header[header.map(lambda head: (head not in channels) and (head not in imageID) and (head != 'MetadataFile') and (head != 'Stack'))]\n",
    "# stack = header[header == 'Stack']\n",
    "# uImageID = np.unique(mdata[imageID])\n",
    "# treatment = header[header == 'Treatment']\n",
    "\n",
    "# param.numChannels = len(channels)\n",
    "# param.treatmentCol = treatment\n",
    "# param.channelCol = channels\n",
    "# param.imageIDCol = imageID\n",
    "# param.stackCol = stack\n",
    "# param.allTreatments = np.unique(mdata[param.treatmentCol])\n"
   ]
  },
  {
   "cell_type": "code",
   "execution_count": null,
   "metadata": {
    "pycharm": {
     "name": "#%%\n"
    }
   },
   "outputs": [],
   "source": [
    "output_file_name = r\"C:\\Users\\teole\\anaconda3\\envs\\phy479\\PhindrResults\\pythontest.txt\"\n",
    "\n",
    "%matplotlib inline\n",
    "#Set to True to show images in process (will show LARGE number of images): EDIT HERE\n",
    "param.showImage = True\n",
    "\n",
    "param, resultIM, resultRaw, df = phi.extractImageLevelTextureFeatures(mdata, param, outputFileName=output_file_name)\n",
    "\n",
    "from IPython.display import display\n",
    "display(df)"
   ]
  },
  {
   "cell_type": "code",
   "execution_count": null,
   "metadata": {
    "pycharm": {
     "name": "#%%\n"
    }
   },
   "outputs": [],
   "source": [
    "# output_file_name = \"trainingtest.csv\"\n",
    "\n",
    "# %matplotlib inline\n",
    "# #Set to True to show images in process (will show LARGE number of images): EDIT HERE\n",
    "# param.showImage = True\n",
    "\n",
    "# param, resultIM, resultRaw, df = phi.extractImageLevelTextureFeatures(mdata, param, outputFileName=output_file_name, outputDir='')\n",
    "\n",
    "# from IPython.display import display\n",
    "# display(df)"
   ]
  }
 ],
 "metadata": {
  "kernelspec": {
   "display_name": "Python 3.10.4 ('phindrdev')",
   "language": "python",
   "name": "python3"
  },
  "language_info": {
   "codemirror_mode": {
    "name": "ipython",
    "version": 3
   },
   "file_extension": ".py",
   "mimetype": "text/x-python",
   "name": "python",
   "nbconvert_exporter": "python",
   "pygments_lexer": "ipython3",
   "version": "3.10.4"
  },
  "vscode": {
   "interpreter": {
    "hash": "d99a5664399eb0807dee3f55af2e9ef840765509cdcb3af00079bfac5d988efd"
   }
  }
 },
 "nbformat": 4,
 "nbformat_minor": 2
}
