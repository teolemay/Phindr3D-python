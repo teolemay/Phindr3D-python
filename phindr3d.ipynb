{
 "cells": [
  {
   "cell_type": "markdown",
   "metadata": {},
   "source": [
    "# Phindr3D in python"
   ]
  },
  {
   "cell_type": "code",
   "execution_count": 1,
   "metadata": {},
   "outputs": [],
   "source": [
    "%matplotlib widget\n",
    "import phindr_functions as phi\n",
    "import numpy as np\n",
    "import matplotlib.pyplot as plt\n",
    "from scipy.spatial import distance as dist"
   ]
  },
  {
   "cell_type": "markdown",
   "metadata": {},
   "source": [
    "# Preliminary set-up:"
   ]
  },
  {
   "cell_type": "code",
   "execution_count": 2,
   "metadata": {},
   "outputs": [],
   "source": [
    "param = phi.initParameters()\n",
    "\n",
    "# EDIT HERE\n",
    "#change parameters as needed\n",
    "#Super-Voxel dimensions\n",
    "param.tileX = 10 \n",
    "param.tileY = 10\n",
    "param.tileZ = 3\n",
    "#Mega-Voxel dimensions\n",
    "param.megaVoxelTileX = 5\n",
    "param.megaVoxelTileY = 5\n",
    "param.megaVoxelTileZ = 2\n",
    "#Number of categories for binning\n",
    "param.numVoxelBins = 20\n",
    "param.numSuperVoxelBins = 15\n",
    "param.numMegaVoxelBins = 30\n",
    "#foreground thresholds\n",
    "param.intensityThresholdTuningFactor = 0.5\n",
    "param.superVoxelThresholdTuningFactor = 0.5\n",
    "param.megaVoxelThresholdTuningFactor = 0.5\n",
    "#training parameters:\n",
    "param.randTrainingSuperVoxel = 10000\n",
    "param.pixelsPerImage = 200 \n",
    "param.randTrainingFields = 5\n",
    "param.randTrainingPerTreatment = 1\n",
    "param.intensityNormPerTreatment = False\n",
    "#visualization:\n",
    "param.showBincenters = False\n",
    "param.showImage = False #may be more useful to change this lower down, otherwise may show large number of images\n",
    "param.showChannels = False # show individual channels instead of rgb images.\n",
    "\n",
    "#include texture features of Mega Voxel image:\n",
    "param.textureFeatures = True\n",
    "\n",
    "#misc. (generally don't need to touch)\n",
    "param.minQuantileScaling = .5\n",
    "param.maxQuantileScaling = .5\n",
    "param.countBackground = False\n",
    "param.showImage = 0\n",
    "param.startZPlane = 1\n",
    "param.endZPlane = 500\n",
    "param.numRemoveZStart = 1\n",
    "param.numRemoveZEnd = 1\n",
    "param.computeTAS = 0\n",
    "param.trainingPerColumn = False\n",
    "param.treatmentColNameForNormalization = ''\n",
    "param.imageTreatments = []\n",
    "param.allTreatments = []\n",
    "param.trainingColforImageCategories = []\n",
    "param.superVoxelPerField = param.randTrainingSuperVoxel//param.randTrainingFields\n",
    "param.lowerbound = [0, 0, 0]\n",
    "param.upperbound = [1, 1, 1]\n",
    "param.numChannels = 3 \n",
    "\n",
    "#don't need to touch these \n",
    "param.svcolormap = phi.random_cmap(map_len=param.numSuperVoxelBins+1)\n",
    "param.mvcolormap = phi.random_cmap(map_len=param.numMegaVoxelBins+1)\n"
   ]
  },
  {
   "cell_type": "markdown",
   "metadata": {},
   "source": [
    "# File loading:\n",
    "Load folder containing images of interest\n",
    "\n",
    "NOTE:\n",
    "\n",
    "If the `analysis_folder_path` is different from the `training_folder_path`, then the Profile Images section requires editing to ensure the images for analysis are loaded properly."
   ]
  },
  {
   "cell_type": "code",
   "execution_count": 15,
   "metadata": {},
   "outputs": [],
   "source": [
    "# EDIT HERE\n",
    "training_folder_path = r\"FILE_name\"\n",
    "analysis_folder_path = training_folder_path \n",
    "output_file_name = \"Phindr3d_output.csv\"\n",
    "\n",
    "#file name key\n",
    "ID_pos='start'\n",
    "ID_mark=None\n",
    "ID_markextra=None\n",
    "slice_mark='z'\n",
    "chan_mark='ch'\n",
    "treat_mark=None\n",
    "treat_endmark=None"
   ]
  },
  {
   "cell_type": "code",
   "execution_count": 16,
   "metadata": {},
   "outputs": [
    {
     "name": "stdout",
     "output_type": "stream",
     "text": [
      "number of images: 540\n",
      "Treatments found:\n",
      "['TEV' 'TMYC' 'TMYC-T58A' 'TBcl-2' 'TBcl-XL' 'TSNAIL' 'Tp53-R248W'\n",
      " 'Tp53-R273H' 'TPI3K' 'TPar']\n"
     ]
    }
   ],
   "source": [
    "files, imageIDs, treatmentids, idstreatment = phi.get_files(training_folder_path, ID_pos=ID_pos, ID_mark=ID_mark, treat_mark=treat_mark, treat_endmark=treat_endmark, ID_markextra=ID_markextra, slice_mark=slice_mark, chan_mark=chan_mark)\n",
    "allImageID = imageIDs\n",
    "#will be empty list if treat_mark is none.\n",
    "param.imageTreatments = idstreatment\n",
    "param.treatmentColNameForNormalization = treatmentids\n",
    "if len(idstreatment) > 0:\n",
    "    param.allTreatments = np.array(list(treatmentids.keys()), dtype='object')\n",
    "\n",
    "print('number of images:', len(imageIDs))\n",
    "print('Treatments found:')\n",
    "print(param.allTreatments)\n",
    "#properly calculate number of channels\n",
    "#slices in first ID:\n",
    "tmpslices = list(files[imageIDs[0]].keys())\n",
    "param.numChannels = len(files[imageIDs[0]][tmpslices[0]])"
   ]
  },
  {
   "cell_type": "markdown",
   "metadata": {},
   "source": [
    "# Rescale intensities:\n",
    "\n",
    "want to rescale to between 1 and 0"
   ]
  },
  {
   "cell_type": "code",
   "execution_count": null,
   "metadata": {},
   "outputs": [],
   "source": [
    "\n",
    "param = phi.getScalingFactorforImages(files, allImageID, param)\n",
    "\n",
    "print('Lowerbounds:', param.lowerbound)\n",
    "print('Upperbounds:', param.upperbound)\n"
   ]
  },
  {
   "cell_type": "markdown",
   "metadata": {},
   "source": [
    "# Threshold images:\n",
    "get threshold value to use from training data\n"
   ]
  },
  {
   "cell_type": "code",
   "execution_count": null,
   "metadata": {},
   "outputs": [],
   "source": [
    "\n",
    "param = phi.getImageThresholdValues(files, allImageID, param)\n",
    "intensityThreshold = np.quantile(param.intensityThresholdValues, param.intensityThresholdTuningFactor, axis=0)\n",
    "param.intensityThreshold = np.reshape(intensityThreshold, (1, param.numChannels))\n",
    "\n",
    "print(param.intensityThreshold)"
   ]
  },
  {
   "cell_type": "markdown",
   "metadata": {},
   "source": [
    "# Cluster pixels:\n",
    "compute pixel categories "
   ]
  },
  {
   "cell_type": "code",
   "execution_count": null,
   "metadata": {},
   "outputs": [],
   "source": [
    "\n",
    "param = phi.getPixelBinCenters(files, allImageID, param)\n",
    "print(param.pixelBinCenters) #20 different pixel categories made up of scaled intensities of different channels\n",
    "print(param.pixelBinCenters.shape)"
   ]
  },
  {
   "cell_type": "code",
   "execution_count": null,
   "metadata": {},
   "outputs": [],
   "source": [
    "#analyze voxel bin centers\n",
    "# cosine distance to get measure of proportionality between vectors\n",
    "voxel_sim = 1 - dist.squareform(dist.pdist(param.pixelBinCenters, 'cosine'))\n",
    "voxel_sim = np.tril(voxel_sim, -1)\n",
    "mean = np.average(voxel_sim[np.nonzero(voxel_sim)])\n",
    "std = np.std(voxel_sim[np.nonzero(voxel_sim)])\n",
    "print(f'Mean voxel bin center similarity: {mean}')\n",
    "print(f'standard deviation: {std}')\n",
    "plt.figure()\n",
    "plt.imshow(voxel_sim)\n",
    "plt.title('Voxel bin center cosine similarity')\n",
    "plt.xticks([i for i in range(param.numVoxelBins)], [f'{i+1}' for i in range(param.numVoxelBins)])\n",
    "plt.yticks([i for i in range(param.numVoxelBins)], [f'{i+1}' for i in range(param.numVoxelBins)])\n",
    "plt.colorbar()\n",
    "plt.show()"
   ]
  },
  {
   "cell_type": "markdown",
   "metadata": {},
   "source": [
    "# Define super voxels:\n",
    "use pixel categories to make some supervoxels! (also cluster super voxels into bins/categories)"
   ]
  },
  {
   "cell_type": "code",
   "execution_count": null,
   "metadata": {},
   "outputs": [],
   "source": [
    "\n",
    "param = phi.getSuperVoxelBinCenters(files, allImageID, param)\n",
    "print(param.supervoxelBincenters) #15 different supervoxel categories made up of frequencies of 20 different pixel categories\n",
    "print(param.supervoxelBincenters.shape)"
   ]
  },
  {
   "cell_type": "code",
   "execution_count": null,
   "metadata": {},
   "outputs": [],
   "source": [
    "# analyze SV bin centers\n",
    "voxel_sim = 1 - dist.squareform(dist.pdist(param.supervoxelBincenters, 'cosine'))\n",
    "voxel_sim = np.tril(voxel_sim, -1)\n",
    "mean = np.average(voxel_sim[np.nonzero(voxel_sim)])\n",
    "std = np.std(voxel_sim[np.nonzero(voxel_sim)])\n",
    "print(f'Mean super voxel bin center similarity: {mean}')\n",
    "print(f'standard deviation: {std}')\n",
    "plt.figure()\n",
    "plt.imshow(voxel_sim)\n",
    "plt.title('Super voxel bin center cosine similarity')\n",
    "plt.xticks([i for i in range(param.numSuperVoxelBins)], [f'{i+1}' for i in range(param.numSuperVoxelBins)])\n",
    "plt.yticks([i for i in range(param.numSuperVoxelBins)], [f'{i+1}' for i in range(param.numSuperVoxelBins)])\n",
    "plt.colorbar()\n",
    "plt.show()"
   ]
  },
  {
   "cell_type": "markdown",
   "metadata": {},
   "source": [
    "# Combine super voxels to mega voxels:\n",
    "use super voxel categories and tileprofile to get megavoxels. also get megavoxel bins/categories"
   ]
  },
  {
   "cell_type": "code",
   "execution_count": null,
   "metadata": {},
   "outputs": [],
   "source": [
    "\n",
    "param = phi.getMegaVoxelBinCenters(files, allImageID, param)\n",
    "print(param.megaVoxelBincenters)\n",
    "print(param.megaVoxelBincenters.shape)"
   ]
  },
  {
   "cell_type": "code",
   "execution_count": null,
   "metadata": {},
   "outputs": [],
   "source": [
    "# analyze MV bin centers\n",
    "voxel_sim = 1 - dist.squareform(dist.pdist(param.megaVoxelBincenters, 'cosine'))\n",
    "voxel_sim = np.tril(voxel_sim, -1)\n",
    "mean = np.average(voxel_sim[np.nonzero(voxel_sim)])\n",
    "std = np.std(voxel_sim[np.nonzero(voxel_sim)])\n",
    "print(f'Mean mega voxel bin center similarity: {mean}')\n",
    "print(f'standard deviation: {std}')\n",
    "plt.figure()\n",
    "plt.imshow(voxel_sim)\n",
    "plt.title('Mega voxel bin center cosine similarity')\n",
    "plt.xticks([i for i in range(0, param.numMegaVoxelBins, 2)], [f'{i+1}' for i in range(0, param.numMegaVoxelBins, 2)])\n",
    "plt.yticks([i for i in range(0, param.numMegaVoxelBins, 2)], [f'{i+1}' for i in range(0, param.numMegaVoxelBins, 2)])\n",
    "plt.colorbar()\n",
    "plt.show()"
   ]
  },
  {
   "cell_type": "markdown",
   "metadata": {},
   "source": [
    "# Profile images:\n"
   ]
  },
  {
   "cell_type": "code",
   "execution_count": null,
   "metadata": {},
   "outputs": [],
   "source": [
    "# to use previously calculated categories, uncomment lines below to specify different location of files \n",
    "\n",
    "# to be analyzed: EDIT HERE\n",
    "# folder_path =  r'E:\\Phindr3D_screenC\\screenC\\plate2' \n",
    "\n",
    "###\n",
    "# files, imageIDs, treatmentids, idstreatment = phi.get_files(analysis_folder_path, ID_pos=ID_pos, ID_mark=ID_mark, treat_mark=treat_mark, treat_endmark=treat_endmark, ID_markextra=ID_markextra, slice_mark=slice_mark, chan_mark=chan_mark)\n",
    "# param.imageTreatments = idstreatment\n",
    "# param.treatmentColNameForNormalization = treatmentids\n",
    "# if len(idstreatment) > 0:\n",
    "#     param.allTreatments = np.array(list(treatmentids.keys()), dtype='object')\n",
    "# tmpslices = list(files[imageIDs[0]].keys())\n",
    "# param.numChannels = len(files[imageIDs[0]][tmpslices[0]])\n",
    "# allImageID = imageIDs\n",
    "###\n",
    "\n",
    "%matplotlib inline\n",
    "#Set to True to show images in process (will show LARGE number of images): EDIT HERE\n",
    "param.showImage = True \n",
    "\n",
    "param, resultIM, resultRaw, df = phi.extractImageLevelTextureFeatures(files, allImageID, param, outputFileName=output_file_name, outputDir='')\n",
    "\n",
    "from IPython.display import display\n",
    "display(df)"
   ]
  }
 ],
 "metadata": {
  "interpreter": {
   "hash": "72797a5196a82f4210641a973deeeaa51f5fd3a7d89b903b945becee6862e58f"
  },
  "kernelspec": {
   "display_name": "Python 3.9.7 64-bit ('phy479': conda)",
   "language": "python",
   "name": "python3"
  },
  "language_info": {
   "codemirror_mode": {
    "name": "ipython",
    "version": 3
   },
   "file_extension": ".py",
   "mimetype": "text/x-python",
   "name": "python",
   "nbconvert_exporter": "python",
   "pygments_lexer": "ipython3",
   "version": "3.9.7"
  },
  "orig_nbformat": 4
 },
 "nbformat": 4,
 "nbformat_minor": 2
}
