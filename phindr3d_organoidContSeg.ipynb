{
 "cells": [
  {
   "cell_type": "markdown",
   "metadata": {},
   "source": [
    "# Organoid Contour segmentation\n",
    "\n",
    "This notebook implements the organoid contour segmentation process that goes along with Phindr3d."
   ]
  },
  {
   "cell_type": "code",
   "execution_count": null,
   "metadata": {},
   "outputs": [],
   "source": [
    "import os\n",
    "import numpy as np\n",
    "import matplotlib.pyplot as plt\n",
    "import pandas as pd\n",
    "import scipy.ndimage as nd\n",
    "import skimage.io as io\n",
    "import metadata_functions as mf\n",
    "import phindr_organoidCSApp as cs\n",
    "import phindr_functions as ph\n",
    "import tifffile as tif\n",
    "from IPython.display import display"
   ]
  },
  {
   "cell_type": "markdown",
   "metadata": {},
   "source": [
    "# Segmentation settings (Not user modifiable in matlab)"
   ]
  },
  {
   "cell_type": "code",
   "execution_count": null,
   "metadata": {},
   "outputs": [],
   "source": [
    "# parameters\n",
    "min_area_spheroid = 200 # Minimum Area\n",
    "intensity_threshold = 500 # Minimum Intensity (Average MIP Intensity)\n",
    "radius_spheroid = 75 #Approx Radius in pixels\n",
    "smoothin_param=0.01 #Smoothing Factor\n",
    "scale_spheroid =1 #Scale Factor\n",
    "entropy_threshold = 1 "
   ]
  },
  {
   "cell_type": "markdown",
   "metadata": {},
   "source": [
    "# Create metadata"
   ]
  },
  {
   "cell_type": "code",
   "execution_count": null,
   "metadata": {},
   "outputs": [],
   "source": [
    "# metadatafilename = 'metadata_python.txt'\n",
    "# folder_path = r'E:\\Phindr3D_organoid-sample-data'\n",
    "# regex = '(?P<WellID>\\w+)f(?P<Field>\\w+)p(?P<Stack>\\d+)-ch(?P<Channel>\\d)sk1fk1fl1.tiff'\n",
    "\n",
    "# mdata_path = mf.createMetadata(folder_path, regex)"
   ]
  },
  {
   "cell_type": "markdown",
   "metadata": {},
   "source": [
    "# directory and metadata set-up"
   ]
  },
  {
   "cell_type": "code",
   "execution_count": null,
   "metadata": {},
   "outputs": [],
   "source": [
    "mdata_path = r'E:\\Phindr3D_organoid-sample-data\\metadata_python.txt'\n",
    "mdata = pd.read_csv(mdata_path, sep='\\t')\n",
    "header = mdata.columns\n",
    "channels = header[header.map(lambda head: head.startswith('Channel_'))]\n",
    "imageID = header[header == 'ImageID']\n",
    "filenameData = header[header.map(lambda head: (head not in channels) and (head not in imageID) and (head != 'MetadataFile') and (head != 'Stack'))]\n",
    "numChannels = len(channels)\n",
    "uImageID = np.unique(mdata[imageID])\n",
    "\n",
    "\n",
    "mdata"
   ]
  },
  {
   "cell_type": "code",
   "execution_count": null,
   "metadata": {},
   "outputs": [],
   "source": [
    "# select output directory:\n",
    "outputfolder = r'C:\\Users\\teole\\anaconda3\\envs\\phy479\\mdatatestingsubset\\segmentationoutput'\n",
    "labpath = os.path.join(outputfolder, 'LabelledImages')\n",
    "segpath = os.path.join(outputfolder, 'SegmentedImages')\n",
    "# os.makedirs(labpath)\n",
    "# os.makedirs(segpath)"
   ]
  },
  {
   "cell_type": "code",
   "execution_count": null,
   "metadata": {},
   "outputs": [],
   "source": [
    "# select channel for segmentation:\n",
    "segChannel = 0 # integer (0 to numChannels - 1) \n",
    "channelForSegmentation = channels[segChannel]"
   ]
  },
  {
   "cell_type": "markdown",
   "metadata": {},
   "source": [
    "# Running segmentation and saving images"
   ]
  },
  {
   "cell_type": "code",
   "execution_count": null,
   "metadata": {},
   "outputs": [],
   "source": [
    "for id in uImageID[-1:]:\n",
    "    imageData = mdata.loc[mdata['ImageID']==id]\n",
    "    zVals = np.unique(imageData['Stack']) #list of z planes\n",
    "\n",
    "    IM, focusIndex = cs.getfsimage(imageData, channelForSegmentation)\n",
    "    seg_unused, L = cs.getSegmentedOverlayImage(IM, min_area_spheroid, radius_spheroid, smoothin_param, entropy_threshold, intensity_threshold, scale_spheroid)\n",
    "    \n",
    "    uLabels = np.unique(L)\n",
    "    uLabels = uLabels[uLabels != 0]\n",
    "    numObjects = len(uLabels)\n",
    "    if numObjects == 0:\n",
    "        print('No objects found')\n",
    "    ll = np.zeros((numObjects, 2), dtype=int)\n",
    "    for iObjects in range(numObjects):\n",
    "        nL = (L == uLabels[iObjects])\n",
    "        ll[iObjects, :] = cs.getFocusplanesPerObjectMod(nL, focusIndex, numZ=np.sum(mdata['ImageID']==id)) #ll is full of array indices\n",
    "    fstruct = nd.find_objects(L.astype(int))\n",
    "    for iObjects in range(numObjects):\n",
    "        for iPlanes in range(ll[iObjects, 0], ll[iObjects, 1]+1): #iPlanes also gets the indices. (but we want up-to and including ll[i, 1])\n",
    "            for kChannels in range(numChannels):\n",
    "                IM1 = io.imread( imageData.loc[imageData['Stack']==iPlanes, channels[kChannels]].values[0] )\n",
    "                IM2 = IM1[fstruct[iObjects]]  ############### This may be on the small side by 1 pixel in each dimension. may need to edit the slices out by 1.\n",
    "                filenameParts = []\n",
    "                for dfcol in filenameData:\n",
    "                    part = f'{dfcol[0]}{imageData.loc[imageData[\"Stack\"]==zVals[0], dfcol].values[0]}'\n",
    "                    filenameParts.append(part)\n",
    "                filenameParts.append(f'Z{iPlanes}')\n",
    "                filenameParts.append(f'CH{kChannels+1}')\n",
    "                filenameParts.append(f'ID{id}')\n",
    "                filenameParts.append(f'OB{iObjects+1}')\n",
    "                obFileName = '__'.join(filenameParts)\n",
    "                obFileName = obFileName + '.tiff'\n",
    "                tif.imwrite(os.path.join(segpath, obFileName), IM2)\n",
    "        filenameParts = []\n",
    "        for dfcol in filenameData:\n",
    "            part = f'{dfcol[0]}{imageData.loc[imageData[\"Stack\"]==zVals[0], dfcol].values[0]}'\n",
    "            filenameParts.append(part)\n",
    "        filenameParts.append('Z1')\n",
    "        filenameParts.append(f'CH{kChannels+1}')\n",
    "        filenameParts.append(f'ID{id}')\n",
    "        filenameParts.append(f'OB{iObjects+1}')\n",
    "        obFileName = '__'.join(filenameParts)\n",
    "        obFileName = obFileName + '.tiff'\n",
    "        IML = L[fstruct[iObjects]]\n",
    "        tif.imwrite(os.path.join(labpath, obFileName), IML)\n",
    "    filenameParts = []\n",
    "    for dfcol in filenameData:\n",
    "        part = f'{dfcol[0]}{imageData.loc[imageData[\"Stack\"]==zVals[0], dfcol].values[0]}'\n",
    "        filenameParts.append(part)\n",
    "    filenameParts.append(f'ID{id}')\n",
    "    filenameParts.append(f'ALLObjects')\n",
    "    obFileName = '__'.join(filenameParts)\n",
    "    obFileName = obFileName + '.tiff'\n",
    "    IML = L\n",
    "    tif.imwrite(os.path.join(labpath, obFileName), IML)\n",
    "\n",
    "print('\\nAll Done!\\n')\n"
   ]
  }
 ],
 "metadata": {
  "interpreter": {
   "hash": "72797a5196a82f4210641a973deeeaa51f5fd3a7d89b903b945becee6862e58f"
  },
  "kernelspec": {
   "display_name": "Python 3.9.7 ('phy479')",
   "language": "python",
   "name": "python3"
  },
  "language_info": {
   "codemirror_mode": {
    "name": "ipython",
    "version": 3
   },
   "file_extension": ".py",
   "mimetype": "text/x-python",
   "name": "python",
   "nbconvert_exporter": "python",
   "pygments_lexer": "ipython3",
   "version": "3.9.7"
  },
  "orig_nbformat": 4
 },
 "nbformat": 4,
 "nbformat_minor": 2
}
